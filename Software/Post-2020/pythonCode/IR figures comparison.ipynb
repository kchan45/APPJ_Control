{
 "cells": [
  {
   "cell_type": "code",
   "execution_count": 1,
   "metadata": {},
   "outputs": [],
   "source": [
    "import subprocess\n",
    "import time\n",
    "import os\n",
    "import cv2\n",
    "import numpy as np\n",
    "from uvcRadiometry import*"
   ]
  },
  {
   "cell_type": "code",
   "execution_count": 45,
   "metadata": {},
   "outputs": [],
   "source": [
    "old_figure = np.genfromtxt('previous IR figure.csv', delimiter=',')"
   ]
  },
  {
   "cell_type": "code",
   "execution_count": 27,
   "metadata": {},
   "outputs": [],
   "source": [
    "old_f=np.array(old_figure, dtype='uint64')"
   ]
  },
  {
   "cell_type": "code",
   "execution_count": 12,
   "metadata": {},
   "outputs": [],
   "source": [
    "minVal, maxVal, minLoc, maxLoc = cv2.minMaxLoc(old_figure[6:50,:])"
   ]
  },
  {
   "cell_type": "code",
   "execution_count": 13,
   "metadata": {},
   "outputs": [
    {
     "data": {
      "text/plain": [
       "(66, 26)"
      ]
     },
     "execution_count": 13,
     "metadata": {},
     "output_type": "execute_result"
    }
   ],
   "source": [
    "minLoc"
   ]
  },
  {
   "cell_type": "code",
   "execution_count": 42,
   "metadata": {},
   "outputs": [
    {
     "data": {
      "text/plain": [
       "65535.0"
      ]
     },
     "execution_count": 42,
     "metadata": {},
     "output_type": "execute_result"
    }
   ],
   "source": [
    "maxVal"
   ]
  },
  {
   "cell_type": "code",
   "execution_count": 37,
   "metadata": {},
   "outputs": [],
   "source": [
    "cv2.normalize(old_figure, old_figure, 0, 65535, cv2.NORM_MINMAX)\n",
    "ggg = np.right_shift(np.array(old_figure, dtype='uint64'), 8, np.array(old_figure, dtype='uint64'))\n",
    "bbbbb = cv2.cvtColor(np.uint8(ggg), cv2.COLOR_GRAY2RGB)\n",
    "Ts_max = display_temperature(bbbbb, maxVal, maxLoc, (0, 0, 255))\n",
    "Ts_min = display_temperature(bbbbb, minVal, minLoc, (255, 0, 0))"
   ]
  },
  {
   "cell_type": "code",
   "execution_count": 40,
   "metadata": {},
   "outputs": [
    {
     "data": {
      "text/plain": [
       "382.2"
      ]
     },
     "execution_count": 40,
     "metadata": {},
     "output_type": "execute_result"
    }
   ],
   "source": [
    "Ts_max"
   ]
  },
  {
   "cell_type": "code",
   "execution_count": 43,
   "metadata": {},
   "outputs": [
    {
     "data": {
      "text/plain": [
       "array([[2480.34883721, 2121.74418605, 2480.34883721, ..., 4153.8372093 ,\n",
       "        3048.13953488, 3645.81395349],\n",
       "       [2121.74418605, 2719.41860465, 2121.74418605, ..., 4153.8372093 ,\n",
       "        2719.41860465, 3586.04651163],\n",
       "       [2540.11627907, 2719.41860465, 2360.81395349, ..., 4333.13953488,\n",
       "        3645.81395349, 3406.74418605],\n",
       "       ...,\n",
       "       [5618.13953488, 6365.23255814, 6425.        , ..., 2002.20930233,\n",
       "        1673.48837209, 2181.51162791],\n",
       "       [3167.6744186 , 3406.74418605, 3884.88372093, ..., 1852.79069767,\n",
       "        1673.48837209, 2121.74418605],\n",
       "       [2121.74418605, 2719.41860465, 2241.27906977, ..., 1852.79069767,\n",
       "        2301.04651163, 2241.27906977]])"
      ]
     },
     "execution_count": 43,
     "metadata": {},
     "output_type": "execute_result"
    }
   ],
   "source": [
    "cv2.normalize(old_figure, old_figure, 0, 65535, cv2.NORM_MINMAX)"
   ]
  },
  {
   "cell_type": "code",
   "execution_count": 44,
   "metadata": {},
   "outputs": [
    {
     "data": {
      "text/plain": [
       "array([[2480.34883721, 2121.74418605, 2480.34883721, ..., 4153.8372093 ,\n",
       "        3048.13953488, 3645.81395349],\n",
       "       [2121.74418605, 2719.41860465, 2121.74418605, ..., 4153.8372093 ,\n",
       "        2719.41860465, 3586.04651163],\n",
       "       [2540.11627907, 2719.41860465, 2360.81395349, ..., 4333.13953488,\n",
       "        3645.81395349, 3406.74418605],\n",
       "       ...,\n",
       "       [5618.13953488, 6365.23255814, 6425.        , ..., 2002.20930233,\n",
       "        1673.48837209, 2181.51162791],\n",
       "       [3167.6744186 , 3406.74418605, 3884.88372093, ..., 1852.79069767,\n",
       "        1673.48837209, 2121.74418605],\n",
       "       [2121.74418605, 2719.41860465, 2241.27906977, ..., 1852.79069767,\n",
       "        2301.04651163, 2241.27906977]])"
      ]
     },
     "execution_count": 44,
     "metadata": {},
     "output_type": "execute_result"
    }
   ],
   "source": [
    "old_figure"
   ]
  },
  {
   "cell_type": "code",
   "execution_count": 48,
   "metadata": {},
   "outputs": [
    {
     "data": {
      "text/plain": [
       "42.09"
      ]
     },
     "execution_count": 48,
     "metadata": {},
     "output_type": "execute_result"
    }
   ],
   "source": [
    "np.max(old_figure[6:50,:])"
   ]
  },
  {
   "cell_type": "code",
   "execution_count": null,
   "metadata": {},
   "outputs": [],
   "source": []
  }
 ],
 "metadata": {
  "kernelspec": {
   "display_name": "Python 3",
   "language": "python",
   "name": "python3"
  },
  "language_info": {
   "codemirror_mode": {
    "name": "ipython",
    "version": 3
   },
   "file_extension": ".py",
   "mimetype": "text/x-python",
   "name": "python",
   "nbconvert_exporter": "python",
   "pygments_lexer": "ipython3",
   "version": "3.8.5"
  }
 },
 "nbformat": 4,
 "nbformat_minor": 4
}
